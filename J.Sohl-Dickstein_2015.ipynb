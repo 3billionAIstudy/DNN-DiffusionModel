{
 "cells": [
  {
   "cell_type": "markdown",
   "metadata": {},
   "source": [
    "## Title\n",
    "[Deep Unsupervised Learning using Nonequilibrium Thermodynamics](https://arxiv.org/pdf/1503.03585.pdf)\n",
    "\n",
    "## Authors and Year\n",
    "Jascha Sohl-Dickstein, Eric A. Weiss, Niru Maheswaranathan, Surya Ganguli (2015)\n",
    "\n",
    "## Abstract\n",
    "A central problem in machine learning involves modeling complex data-sets using highly flexible families of probability distributions in which learning, sampling, inference, and evaluation are still analytically or computationally tractable. Here, we develop an approach that simultaneously achieves both flexibility and tractability. The essential idea, inspired by non-equilibrium statistical physics, is to systematically and slowly destroy structure in a data distribution through an iterative forward diffusion process. We then learn a reverse diffusion process that restores structure in data, yielding a highly flexible and tractable generative model of the data. This approach allows us to rapidly learn, sample from, and evaluate probabilities in deep generative models with thousands of layers or time steps, as well as to compute conditional and posterior probabilities under the learned model. We additionally release an open source reference implementation of the algorithm.\n",
    "\n",
    "## Model Type\n",
    "Generative model with Multiscale CNN\n"
   ]
  },
  {
   "cell_type": "markdown",
   "metadata": {},
   "source": [
    "## What is generative model\n",
    "Input data를 기반으로 (없을 수도 있음) 생성물의 확률분포 $p(x;\\theta)$를 구하고, 가장 확률이 높은 생성물을 출력해주는 모델. "
   ]
  },
  {
   "cell_type": "markdown",
   "metadata": {},
   "source": [
    "### Limitation of other Generative models\n",
    "<p align=\"center\">\n",
    "    <img src=\"Images/generative-overview.png\" alt=\"drawing\" width=\"400\"/>\n",
    "</p>\n",
    "\n",
    "- GAN: Potentially unstable training, less diversity due to adversarial training \n",
    "- VAE: relies on surrogate loss\n",
    "- Flow-based - have to use specialized architectures to construct reversible transform."
   ]
  },
  {
   "cell_type": "markdown",
   "metadata": {},
   "source": [
    "## Purpose\n",
    "\n",
    "### Tractable and Flexible\n",
    "- Tractable : Analytically evaluated and eaily fit\n",
    "- Flexible : can be molded to fit structure in arbitrary data\n",
    "\n",
    "**Face tradeoff between two objectives**\n",
    "\n",
    "Thus we want to make\n",
    "1. Extremely flexible\n",
    "2. Exact sampling\n",
    "3. Easy multipilcation with other distributions\n",
    "4. log likelihood, probability of individual states to be cheaply evaluated. "
   ]
  },
  {
   "cell_type": "markdown",
   "metadata": {},
   "source": [
    "## Idea - Analytically tractable reverse process\n",
    "<p align=\"center\">\n",
    "    <img src=\"Images/diffusion_model_forward_process.png\" alt=\"drawing\" width=\"400\"/>\n",
    "    <img src=\"Images/diffusion_model_reverse_process.png\" alt=\"drawing\" width=\"400\"/>\n",
    "</p>\n",
    "\n",
    "Forward process\n",
    "$$\n",
    "    q(x^{1:T} | x_0) = \\prod_{t=1}^T q(x^t | x^{t-1}) = \\prod_{t=1}^T N(x^t; \\sqrt{1 - \\beta_t} x^{t-1}, \\beta_t \\mathbb{I})\n",
    "$$\n",
    "\n",
    "Reverse process\n",
    "$$\n",
    "    p(x^{0:T}) = p(x^T) \\prod_{t=1}^T p_{\\theta} (x^{t-1} | x^t) = p(x^T) \\prod_{t=1}^T N(x^{t-1}; f_{\\mu}(x^t, t), f_{\\Sigma}(x^t, t))\n",
    "$$"
   ]
  },
  {
   "cell_type": "markdown",
   "metadata": {},
   "source": [
    "## Benefit to use\n",
    "- Not Requiring adversarial training\n",
    "- Scalability\n",
    "- Parallelizability\n",
    "\n",
    "### Trilemma\n",
    "<p align=\"center\">\n",
    "    <img src=\"Images/GANs_Diffusion_Autoencoders.png\" alt=\"drawing\" width=\"400\"/>\n",
    "</p>"
   ]
  },
  {
   "cell_type": "markdown",
   "metadata": {},
   "source": [
    "## Model characteristics\n",
    "\n",
    "### Input data\n",
    "$$\n",
    "  y = (y_1^\\mu, y_1^\\Sigma, \\cdots) \\in \\mathbb{R}^{2J},\\quad J : \\textrm{Number of pixels}\n",
    "$$\n",
    "\n",
    "### Train parameter \n",
    "$$\n",
    "    \\textrm{Gaussian : } f_\\mu(x^t, t), \\; f_{\\Sigma}(x^t, t) \\\\\n",
    "    \\textrm{Binomial : } f_b(x^t, t) \\quad\\quad\\quad\\quad\\;\n",
    "$$\n",
    "\n",
    "### Score function\n",
    "- Log likelihood \n",
    "$$\n",
    "    L = \\int d x^0 q(x^0) \\log p(x^0)\n",
    "$$\n",
    "\n",
    "### Network\n",
    "<p align=\"center\">\n",
    "    <img src=\"Images/Sohl-Dickstein(2015).png\" alt=\"drawing\" width=\"400\"/>\n",
    "</p>"
   ]
  }
 ],
 "metadata": {
  "kernelspec": {
   "display_name": "Python 3.6.15 ('pafnucy_env': conda)",
   "language": "python",
   "name": "python3"
  },
  "language_info": {
   "name": "python",
   "version": "3.6.15"
  },
  "orig_nbformat": 4,
  "vscode": {
   "interpreter": {
    "hash": "684786639e538aadf6a4d28bdb8851ec87d947790f040921142ddd0becad74cd"
   }
  }
 },
 "nbformat": 4,
 "nbformat_minor": 2
}
